{
 "cells": [
  {
   "cell_type": "code",
   "execution_count": 1,
   "metadata": {},
   "outputs": [],
   "source": [
    "# Import libraries\n",
    "import pandas as pd\n",
    "import matplotlib.pyplot as plt\n",
    "import seaborn as sns\n",
    "from collections import defaultdict"
   ]
  },
  {
   "cell_type": "code",
   "execution_count": 6,
   "metadata": {},
   "outputs": [],
   "source": [
    "\n",
    "# Define functions\n",
    "def read_edge_usage(file_path):\n",
    "    edges = []\n",
    "    with open(file_path, 'r') as file:\n",
    "        for line in file:\n",
    "            parts = line.strip().split()\n",
    "            res1 = int(parts[1])\n",
    "            res2 = int(parts[3].rstrip(':'))\n",
    "            weight = int(parts[4])\n",
    "            edges.append((res1, res2, weight))\n",
    "    return edges\n",
    "\n",
    "def read_pdb(file_path):\n",
    "    pdb_data = {}\n",
    "    with open(file_path, 'r') as file:\n",
    "        for line in file:\n",
    "            if line.startswith(\"ATOM\"):\n",
    "                res_number = int(line[22:26].strip())\n",
    "                res_type = line[17:20].strip()\n",
    "                chain = line[21].strip()\n",
    "                pdb_data[res_number] = (res_type, chain)\n",
    "    return pdb_data\n",
    "\n",
    "def get_domain(residue):\n",
    "    domain_ranges = {\n",
    "        'NTD A': range(13, 220),\n",
    "        'NTD B': range(1141, 1420),\n",
    "        'NTD C': range(2269, 2548),\n",
    "        'RBD A': range(331, 529),\n",
    "        'RBD B': range(1459, 1657),\n",
    "        'RBD C': range(2587, 2785),\n",
    "        'RBM A': range(437, 509),\n",
    "        'RBM B': range(1565, 1637),\n",
    "        'RBM C': range(2693, 2765),\n",
    "        'CTD2 A': range(529, 590),\n",
    "        'CTD2 B': range(1657, 1718),\n",
    "        'CTD2 C': range(2785, 2846),\n",
    "        'CTD3 A': range(590, 676),\n",
    "        'CTD3 A2': range(1691, 698),\n",
    "        'CTD3 B1': range(1718, 1804),\n",
    "        'CTD3 B2': range(1819, 1826),\n",
    "        'CTD3 C1': range(2846, 2932),\n",
    "        'CTD3 C2': range(2947, 2954),\n",
    "        'FCS A': range(675, 691),\n",
    "        'FCS B': range(1803, 1819),\n",
    "        'FCS C': range(2931, 2947),\n",
    "        'FP': range(817, 835),\n",
    "        'FP2': range(1945, 1963),\n",
    "        'FP3': range(3073, 3091),\n",
    "        'FPPR': range(835, 856),\n",
    "        'FPPR2': range(1963, 1984),\n",
    "        'FPPR3': range(3091, 3112),\n",
    "        'HR1': range(910, 986),\n",
    "        'HR1-2': range(2038, 2114),\n",
    "        'HR1-3': range(3166, 3242),\n",
    "        'CH': range(985, 1035),\n",
    "        'CH2': range(2113, 2163),\n",
    "        'CH3': range(3241, 3291),\n",
    "        'CD': range(1035, 1069),\n",
    "        'CD2': range(2163, 2197),\n",
    "        'CD3': range(3291, 3325),\n",
    "        'Chain G': range(3389, 3880),\n",
    "        'Chain M': range(3880, 3999),\n",
    "        'Chain N': range(4419, 4538),\n",
    "        'Chain O': range(4538, 4657),\n",
    "        'Chain P': range(3999, 4139),\n",
    "        'Chain Q': range(4279, 4419),\n",
    "        'Chain R': range(4139, 4279)\n",
    "    }\n",
    "    \n",
    "    for domain, residues in domain_ranges.items():\n",
    "        if residue in residues:\n",
    "            return domain\n",
    "    return None\n",
    "\n",
    "def generate_output_file(edges, pdb_data, output_file):\n",
    "    with open(output_file, 'w') as file:\n",
    "        for res1, res2, weight in edges:\n",
    "            res1_info = pdb_data.get(res1, (\"Unknown\", \"Unknown\"))\n",
    "            res2_info = pdb_data.get(res2, (\"Unknown\", \"Unknown\"))\n",
    "            domain1 = get_domain(res1)\n",
    "            domain2 = get_domain(res2)\n",
    "            file.write(f\"Edge {res1}-{res2}-{weight}; {res1_info[0]}-{domain1}-{res1_info[1]} -> {res2_info[0]}-{domain2}-{res2_info[1]}\\n\")\n",
    "\n",
    "def create_domain_residue_list(edges, pdb_data):\n",
    "    domain_residues = defaultdict(set)\n",
    "    for res1, res2, _ in edges:\n",
    "        domain1 = get_domain(res1)\n",
    "        domain2 = get_domain(res2)\n",
    "        if domain1:\n",
    "            domain_residues[domain1].add(res1)\n",
    "        if domain2:\n",
    "            domain_residues[domain2].add(res2)\n",
    "    return domain_residues\n",
    "\n",
    "def plot_domain_weights(edge_files, pdb_data):\n",
    "    domain_weights_list = []\n",
    "    \n",
    "    for file in edge_files:\n",
    "        edges = read_edge_usage(file)\n",
    "        domain_weights = defaultdict(int)\n",
    "        for res1, res2, weight in edges:\n",
    "            domain1 = get_domain(res1)\n",
    "            domain2 = get_domain(res2)\n",
    "            if domain1:\n",
    "                domain_weights[domain1] += weight\n",
    "            if domain2:\n",
    "                domain_weights[domain2] += weight\n",
    "        domain_weights_list.append(domain_weights)\n",
    "    \n",
    "    all_domains = set()\n",
    "    for weights in domain_weights_list:\n",
    "        all_domains.update(weights.keys())\n",
    "    \n",
    "\n",
    "    normalized_weights = {}\n",
    "    for domain in all_domains:\n",
    "        domain_values = [weights.get(domain, 0) for weights in domain_weights_list]\n",
    "        total_weight = sum(domain_values)\n",
    "        if total_weight > 0:\n",
    "            normalized_weights[domain] = (sum(domain_values) / len(domain_values), pd.Series(domain_values).std())\n",
    "    \n",
    "    # Plotting\n",
    "    domains = list(normalized_weights.keys())\n",
    "    means = [normalized_weights[d][0] for d in domains]\n",
    "    stds = [normalized_weights[d][1] for d in domains]\n",
    "    \n",
    "    sns.set(style=\"whitegrid\")\n",
    "    plt.figure(figsize=(20, 10))\n",
    "    plt.bar(domains, means, yerr=stds, capsize=5, color='skyblue')\n",
    "    plt.xlabel('Domains')\n",
    "    plt.ylabel('Normalized Weights')\n",
    "    plt.title('Normalized Addition of Weights Corresponding to Each Domain (with Std Dev)')\n",
    "    plt.xticks(rotation=90)\n",
    "    plt.tight_layout()\n",
    "    plt.show()\n",
    "\n"
   ]
  },
  {
   "cell_type": "code",
   "execution_count": 7,
   "metadata": {},
   "outputs": [
    {
     "data": {
      "text/plain": [
       "'/Users/carlacalvo/Documents/GitHub/MDrepo/spike'"
      ]
     },
     "execution_count": 7,
     "metadata": {},
     "output_type": "execute_result"
    }
   ],
   "source": [
    "pwd"
   ]
  },
  {
   "cell_type": "markdown",
   "metadata": {},
   "source": [
    "For range of 3 chains:         'NTD': set(range(13, 220)).union(range(1141, 1420)).union(range(2269, 2548)),"
   ]
  },
  {
   "cell_type": "code",
   "execution_count": 8,
   "metadata": {},
   "outputs": [],
   "source": [
    "# File paths\n",
    "pdb_file_path = \"/Users/carlacalvo/Carla/wisp/wisp_spm/analysis_folder/mucins/nocal/wt/rep1/dist14/test_plot/combined.pdb\"\n",
    "edge_files = [\"/Users/carlacalvo/Carla/wisp/wisp_spm/analysis_folder/mucins/nocal/wt/rep1/dist14/test_plot/egde_usage_1000.txt\", \"/Users/carlacalvo/Carla/wisp/wisp_spm/analysis_folder/mucins/nocal/wt/rep2/dist14/edge_usage_1000.txt\"]  # List all edge files here"
   ]
  },
  {
   "cell_type": "code",
   "execution_count": 9,
   "metadata": {},
   "outputs": [],
   "source": [
    "# Read PDB data\n",
    "pdb_data = read_pdb(pdb_file_path)"
   ]
  },
  {
   "cell_type": "code",
   "execution_count": 10,
   "metadata": {},
   "outputs": [],
   "source": [
    "\n",
    "# Generate output for each edge file\n",
    "for edge_file in edge_files:\n",
    "    output_file_path = edge_file.replace('.txt', '_info.txt')\n",
    "    edges = read_edge_usage(edge_file)\n",
    "    generate_output_file(edges, pdb_data, output_file_path)"
   ]
  },
  {
   "cell_type": "code",
   "execution_count": 11,
   "metadata": {},
   "outputs": [
    {
     "data": {
      "image/png": "[encoded data removed]",
      "text/plain": [
       "<matplotlib.figure.Figure at 0x7ff2f87f3978>"
      ]
     },
     "metadata": {},
     "output_type": "display_data"
    }
   ],
   "source": [
    "# Plot domain weights with standard deviation\n",
    "plot_domain_weights(edge_files, pdb_data)"
   ]
  },
  {
   "cell_type": "code",
   "execution_count": null,
   "metadata": {},
   "outputs": [],
   "source": []
  }
 ],
 "metadata": {
  "kernelspec": {
   "display_name": "Python 3",
   "language": "python",
   "name": "python3"
  },
  "language_info": {
   "codemirror_mode": {
    "name": "ipython",
    "version": 3
   },
   "file_extension": ".py",
   "mimetype": "text/x-python",
   "name": "python",
   "nbconvert_exporter": "python",
   "pygments_lexer": "ipython3",
   "version": "3.6.1"
  }
 },
 "nbformat": 4,
 "nbformat_minor": 2
}
